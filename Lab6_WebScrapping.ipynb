{
 "cells": [
  {
   "cell_type": "markdown",
   "metadata": {},
   "source": [
    "<strong><b><font size=\"5\">Data Science Academy</font></b></strong>"
   ]
  },
  {
   "cell_type": "markdown",
   "metadata": {},
   "source": [
    "<strong><b><font size=\"5\">Web Scraping e Análise de Dados</font></b></strong>"
   ]
  },
  {
   "cell_type": "markdown",
   "metadata": {},
   "source": [
    "<strong><b><font size=\"5\">Lab 6</font></b></strong>\n",
    "\n",
    "<strong><b><font size=\"4\">Web Scraping e Análise de Preços e Configurações de Notebooks Para Data Science</font></b></strong>"
   ]
  },
  {
   "cell_type": "markdown",
   "metadata": {},
   "source": [
    "![title](imagens/lab6.png)"
   ]
  },
  {
   "cell_type": "markdown",
   "metadata": {},
   "source": [
    "## Definição do Problema\n",
    "\n",
    "Procurando por um notebook novo para as aulas de Ciência de Dados na DSA? Pensando em comprar um novo computador para começar a empreender desenvolvendo aplicações analíticas? Sem tempo para ficar pesquisando pelas inúmeras opções disponíveis na internet?\n",
    "\n",
    "Por que não criar seu próprio Web Scraper, que vai buscar, comparar e analisar diversas opções de notebooks para você e listar em uma tabela para sua escolha com os filtros que você especificar?\n",
    "\n",
    "É o que faremos agora neste Lab.\n",
    "\n",
    "Com a evolução da internet, o comércio eletrônico se tornou tão popular que agora praticamente todo mundo compra um ou outro produto online. Com apenas alguns cliques, seu produto desejado pode ser entregue na sua porta. Apesar de tão conveniente, às vezes pode ser exasperante, principalmente devido às inúmeras alternativas disponíveis em várias plataformas de comércio eletrônico.\n",
    "\n",
    "Com este Lab vamos percorrer o site da Amazon e buscar detalhes sobre notebooks: preço, avaliação de clientes e configuração de hardware. Vamos limpar os dados, analisar e então resumir em uma tabela tudo que você precisa para tomar sua decisão.\n",
    "\n",
    "Nós faremos Web Scraping na Amazon americana e como exercício deixaremos para você o ajuste no Lab para captura dos dados na Amazon brasileira. \n",
    "\n",
    "E lembre-se que temos um post sobre o tema em nosso Blog:\n",
    "\n",
    "<a href=\"http://datascienceacademy.com.br/blog/qual-o-melhor-computador-pessoal-para-aprender-data-science/\">Qual o melhor computador pessoal para estudar Data Science?</a>\n",
    "\n",
    "Leia todos os comentários e execute as células."
   ]
  },
  {
   "cell_type": "markdown",
   "metadata": {},
   "source": [
    "## Fonte de Dados\n",
    "\n",
    "Nossa fonte de dados será o site oficial da Amazon: https://amazon.com"
   ]
  },
  {
   "cell_type": "markdown",
   "metadata": {},
   "source": [
    "## Carregando os Pacotes Usados Neste Jupyter Notebook"
   ]
  },
  {
   "cell_type": "code",
   "execution_count": 1,
   "metadata": {},
   "outputs": [
    {
     "name": "stdout",
     "output_type": "stream",
     "text": [
      "Versão da Linguagem Python Usada Neste Jupyter Notebook: 3.7.4\n"
     ]
    }
   ],
   "source": [
    "# Versão da Linguagem Python\n",
    "from platform import python_version\n",
    "print('Versão da Linguagem Python Usada Neste Jupyter Notebook:', python_version())"
   ]
  },
  {
   "cell_type": "code",
   "execution_count": 3,
   "metadata": {},
   "outputs": [],
   "source": [
    "# Para atualizar um pacote, execute o comando abaixo no terminal ou prompt de comando:\n",
    "# pip install -U nome_pacote\n",
    "\n",
    "# Para instalar a versão exata de um pacote, execute o comando abaixo no terminal ou prompt de comando:\n",
    "# pip install nome_pacote==versão_desejada\n",
    "\n",
    "# Depois de instalar ou atualizar o pacote, reinicie o jupyter notebook, se necessário."
   ]
  },
  {
   "cell_type": "code",
   "execution_count": 2,
   "metadata": {},
   "outputs": [],
   "source": [
    "# Instala o pacote watermark. \n",
    "# Esse pacote é usado para gravar as versões de outros pacotes usados neste jupyter notebook.\n",
    "!pip install -q -U watermark"
   ]
  },
  {
   "cell_type": "code",
   "execution_count": 4,
   "metadata": {},
   "outputs": [],
   "source": [
    "# Imports\n",
    "import bs4\n",
    "import requests\n",
    "import pandas as pd\n",
    "from bs4 import BeautifulSoup"
   ]
  },
  {
   "cell_type": "code",
   "execution_count": 5,
   "metadata": {},
   "outputs": [
    {
     "name": "stdout",
     "output_type": "stream",
     "text": [
      "requests 2.22.0\n",
      "bs4      4.8.0\n",
      "pandas   0.25.1\n",
      "Data Science Academy\n"
     ]
    }
   ],
   "source": [
    "# Versões dos pacotes usados neste jupyter notebook\n",
    "%reload_ext watermark\n",
    "%watermark -a \"Data Science Academy\" --iversions"
   ]
  },
  {
   "cell_type": "markdown",
   "metadata": {},
   "source": [
    "## Web Scraping\n",
    "\n",
    "O primeiro passo é você acessar o endereço abaixo:\n",
    "\n",
    "https://www.amazon.com/s?k=laptops\n",
    "\n",
    "Esse endereço é o resultado da busca por \"laptops\". Inspecione o código fonte da página conforme você aprendeu no inicio do curso.\n",
    "\n",
    "Coletaremos as informações relevantes das primeiras cinco páginas do resultado da pesquisa, pois isso nos fornecerá dados suficientes para a análise. Criaremos então um dataframe a partir dos dados coletados. \n",
    "\n",
    "Vamos criar uma função para cada ação de web scraping e depois juntar tudo em um loop como se fosse um roteiro. Preste atenção nos nomes das funções."
   ]
  },
  {
   "cell_type": "code",
   "execution_count": 7,
   "metadata": {},
   "outputs": [],
   "source": [
    "# Esta função define o cabeçalho da conexão ao site da Amazon e faz a requisição para extrair os dados\n",
    "def faz_request(num_page):\n",
    "    \n",
    "    # Cabeçalho para evitar problema de conexão não segura ao site da Amazon\n",
    "    headers = {\"User-Agent\":\"Mozilla/5.0 (Windows NT 10.0; Win64; x64; rv:66.0) Gecko/20100101 Firefox/66.0\", \n",
    "               \"Accept-Encoding\":\"gzip, deflate\", \n",
    "               \"Accept\":\"text/html,application/xhtml+xml,application/xml;q=0.9,*/*;q=0.8\",\n",
    "               \"DNT\":\"1\",\"Connection\":\"close\", \"Upgrade-Insecure-Requests\":\"1\"}\n",
    "\n",
    "    # Request para cada página do resultado de pesquisa\n",
    "    # Observe o uso da variável num_page\n",
    "    requisicao = requests.get('https://www.amazon.com/s?k=laptops&page='+str(num_page), headers = headers)\n",
    "    \n",
    "    return requisicao"
   ]
  },
  {
   "cell_type": "code",
   "execution_count": 8,
   "metadata": {},
   "outputs": [],
   "source": [
    "# Função para extrair o conteúdo\n",
    "def extrai_conteudo(requisicao):\n",
    "    return requisicao.content"
   ]
  },
  {
   "cell_type": "code",
   "execution_count": 9,
   "metadata": {},
   "outputs": [],
   "source": [
    "# Função para o parse do conteúdo extraído do site da Amazon\n",
    "def formata_conteudo(conteudo):\n",
    "    return BeautifulSoup(conteudo, 'lxml')"
   ]
  },
  {
   "cell_type": "code",
   "execution_count": 10,
   "metadata": {},
   "outputs": [],
   "source": [
    "# Função para extrair o nome do notebook\n",
    "# Visite o código fonte no site da Amazon para verificar a classe que contém o nome\n",
    "# Você aprendeu como fazer isso no início do curso aqui na Data Science Academy\n",
    "def extrai_nome(div):\n",
    "    \n",
    "    # Busca pela tag span, classe 'a-size-medium a-color-base a-text-normal', onde está o nome do notebook\n",
    "    span_nome = div.find('span', attrs = {'class':'a-size-medium a-color-base a-text-normal'})\n",
    "    \n",
    "    # Se o valor não for vazio, extrai o valor (nome)\n",
    "    if span_nome is not None:\n",
    "        return span_nome.text\n",
    "    else:\n",
    "        return 'no-info' "
   ]
  },
  {
   "cell_type": "code",
   "execution_count": 11,
   "metadata": {},
   "outputs": [],
   "source": [
    "# Função para extrair o preço\n",
    "def extrai_preco(div):\n",
    "    \n",
    "    # Busca pela tag span, classe 'a-offscreen', onde está o preço do notebook\n",
    "    span_preco = div.find('span', attrs = {'class':'a-offscreen'})\n",
    "    \n",
    "    # Se o valor não for vazio, extrai o valor (preço)\n",
    "    if span_preco is not None:\n",
    "        return span_preco.text\n",
    "    else:\n",
    "        return 'no-info'"
   ]
  },
  {
   "cell_type": "code",
   "execution_count": 12,
   "metadata": {},
   "outputs": [],
   "source": [
    "# Função para extrair a avaliação dos clientes\n",
    "def extrai_aval(div):\n",
    "    \n",
    "    # Busca pela tag span, classe 'a-icon-alt', onde está a avaliação do notebook\n",
    "    span_aval = div.find('span', attrs = {'class':'a-icon-alt'})\n",
    "    \n",
    "    # Se o valor não for vazio, extrai o valor (avaliação)\n",
    "    if span_aval is not None:\n",
    "        return span_aval.text\n",
    "    else:\n",
    "        return 'no-info'  "
   ]
  },
  {
   "cell_type": "code",
   "execution_count": 13,
   "metadata": {},
   "outputs": [],
   "source": [
    "# Lista para receber os dados\n",
    "dados_notebooks = []"
   ]
  },
  {
   "cell_type": "code",
   "execution_count": 14,
   "metadata": {},
   "outputs": [
    {
     "name": "stdout",
     "output_type": "stream",
     "text": [
      "\n",
      "Executando Web Scraping...\n",
      "\n",
      "\n",
      "Extração Concluída.\n",
      "\n"
     ]
    }
   ],
   "source": [
    "# Loop por cada página retornada no scraping\n",
    "\n",
    "print(\"\\nExecutando Web Scraping...\\n\")\n",
    "\n",
    "# Loop\n",
    "for num_page in range(1,6):\n",
    "    \n",
    "    # Faz a request\n",
    "    requisicao = faz_request(num_page)\n",
    "    \n",
    "    # Exrai o conteúdo\n",
    "    conteudo = extrai_conteudo(requisicao)\n",
    "    \n",
    "    # Formata o conteúdo\n",
    "    soup = formata_conteudo(conteudo)   \n",
    "    \n",
    "    # Loop pelo conteúdo\n",
    "    for info in soup.findAll('div', attrs = {'class':'sg-col-4-of-12 sg-col-8-of-16 sg-col-16-of-24 sg-col-12-of-20 sg-col-24-of-32 sg-col sg-col-28-of-36 sg-col-20-of-28'}):\n",
    "        \n",
    "        # Extrai o nome do notebook\n",
    "        nome = extrai_nome(info)\n",
    "        \n",
    "        # Extrai o preço do notebook\n",
    "        preco = extrai_preco(info)\n",
    "        \n",
    "        # Extrai a avaliação do notebook\n",
    "        aval = extrai_aval(info)\n",
    "        \n",
    "        # Adiciona os dados à lista\n",
    "        dados_notebooks.append([nome, preco, aval])\n",
    "\n",
    "print(\"\\nExtração Concluída.\\n\")"
   ]
  },
  {
   "cell_type": "markdown",
   "metadata": {},
   "source": [
    "Extração concluída. Temos uma lista com os dados. Vamos transformá-la em um dataframe do pandas para facilitar a manipulação dos dados."
   ]
  },
  {
   "cell_type": "code",
   "execution_count": 15,
   "metadata": {},
   "outputs": [],
   "source": [
    "# Cria dataframe\n",
    "df_dados_notebooks = pd.DataFrame(dados_notebooks, columns = ['Nome', 'Preco', 'Avaliacao'])    "
   ]
  },
  {
   "cell_type": "code",
   "execution_count": 16,
   "metadata": {},
   "outputs": [
    {
     "data": {
      "text/plain": [
       "(16, 3)"
      ]
     },
     "execution_count": 16,
     "metadata": {},
     "output_type": "execute_result"
    }
   ],
   "source": [
    "# Shape\n",
    "df_dados_notebooks.shape"
   ]
  },
  {
   "cell_type": "code",
   "execution_count": 17,
   "metadata": {},
   "outputs": [
    {
     "data": {
      "text/html": [
       "<div>\n",
       "<style scoped>\n",
       "    .dataframe tbody tr th:only-of-type {\n",
       "        vertical-align: middle;\n",
       "    }\n",
       "\n",
       "    .dataframe tbody tr th {\n",
       "        vertical-align: top;\n",
       "    }\n",
       "\n",
       "    .dataframe thead th {\n",
       "        text-align: right;\n",
       "    }\n",
       "</style>\n",
       "<table border=\"1\" class=\"dataframe\">\n",
       "  <thead>\n",
       "    <tr style=\"text-align: right;\">\n",
       "      <th></th>\n",
       "      <th>Nome</th>\n",
       "      <th>Preco</th>\n",
       "      <th>Avaliacao</th>\n",
       "    </tr>\n",
       "  </thead>\n",
       "  <tbody>\n",
       "    <tr>\n",
       "      <td>0</td>\n",
       "      <td>2020 HP Pavilion 14\" HD Display Laptop Compute...</td>\n",
       "      <td>$339.00</td>\n",
       "      <td>4.2 out of 5 stars</td>\n",
       "    </tr>\n",
       "    <tr>\n",
       "      <td>1</td>\n",
       "      <td>HP 14in High Performance Laptop (AMD Ryzen 3 3...</td>\n",
       "      <td>$303.00</td>\n",
       "      <td>3.8 out of 5 stars</td>\n",
       "    </tr>\n",
       "    <tr>\n",
       "      <td>2</td>\n",
       "      <td>ASUS ZenBook 13 Ultra Slim Laptop, 13.3” FHD W...</td>\n",
       "      <td>$949.99</td>\n",
       "      <td>4.0 out of 5 stars</td>\n",
       "    </tr>\n",
       "    <tr>\n",
       "      <td>3</td>\n",
       "      <td>2020 Lenovo IdeaPad Laptop ComputerAMD A6-9220...</td>\n",
       "      <td>$242.00</td>\n",
       "      <td>3.5 out of 5 stars</td>\n",
       "    </tr>\n",
       "    <tr>\n",
       "      <td>4</td>\n",
       "      <td>The Marvelous Mrs. Maisel - Season 2</td>\n",
       "      <td>no-info</td>\n",
       "      <td>4.2 out of 5 stars</td>\n",
       "    </tr>\n",
       "  </tbody>\n",
       "</table>\n",
       "</div>"
      ],
      "text/plain": [
       "                                                Nome    Preco  \\\n",
       "0  2020 HP Pavilion 14\" HD Display Laptop Compute...  $339.00   \n",
       "1  HP 14in High Performance Laptop (AMD Ryzen 3 3...  $303.00   \n",
       "2  ASUS ZenBook 13 Ultra Slim Laptop, 13.3” FHD W...  $949.99   \n",
       "3  2020 Lenovo IdeaPad Laptop ComputerAMD A6-9220...  $242.00   \n",
       "4               The Marvelous Mrs. Maisel - Season 2  no-info   \n",
       "\n",
       "            Avaliacao  \n",
       "0  4.2 out of 5 stars  \n",
       "1  3.8 out of 5 stars  \n",
       "2  4.0 out of 5 stars  \n",
       "3  3.5 out of 5 stars  \n",
       "4  4.2 out of 5 stars  "
      ]
     },
     "execution_count": 17,
     "metadata": {},
     "output_type": "execute_result"
    }
   ],
   "source": [
    "# Visualiza os dados\n",
    "df_dados_notebooks.head()"
   ]
  },
  {
   "cell_type": "code",
   "execution_count": 18,
   "metadata": {},
   "outputs": [
    {
     "data": {
      "text/plain": [
       "Nome         object\n",
       "Preco        object\n",
       "Avaliacao    object\n",
       "dtype: object"
      ]
     },
     "execution_count": 18,
     "metadata": {},
     "output_type": "execute_result"
    }
   ],
   "source": [
    "# Visualizando os tipos de dados\n",
    "df_dados_notebooks.dtypes"
   ]
  },
  {
   "cell_type": "markdown",
   "metadata": {},
   "source": [
    "Perfeito. Agora precisamos limpar os dados. Vamos à faxina."
   ]
  },
  {
   "cell_type": "markdown",
   "metadata": {},
   "source": [
    "## Limpeza da Coluna de Preços\n",
    "\n",
    "Começaremos a limpeza pela coluna de preços. Leia os comentários com atenção."
   ]
  },
  {
   "cell_type": "code",
   "execution_count": 19,
   "metadata": {},
   "outputs": [
    {
     "data": {
      "text/plain": [
       "no-info    3\n",
       "$682.00    1\n",
       "$249.00    1\n",
       "$242.00    1\n",
       "$634.99    1\n",
       "$949.99    1\n",
       "$303.00    1\n",
       "$588.00    1\n",
       "$219.99    1\n",
       "$339.00    1\n",
       "$579.99    1\n",
       "$638.99    1\n",
       "$249.43    1\n",
       "$355.98    1\n",
       "Name: Preco, dtype: int64"
      ]
     },
     "execution_count": 19,
     "metadata": {},
     "output_type": "execute_result"
    }
   ],
   "source": [
    "# Buscando o total de registros por preço\n",
    "df_dados_notebooks['Preco'].value_counts(dropna = False)"
   ]
  },
  {
   "cell_type": "code",
   "execution_count": 20,
   "metadata": {},
   "outputs": [],
   "source": [
    "# Temos vários registros com preço = no_info\n",
    "# Registro sem preço, não queremos. Vamos remover\n",
    "df_dados_notebooks = df_dados_notebooks[df_dados_notebooks['Preco'] != 'no-info']"
   ]
  },
  {
   "cell_type": "code",
   "execution_count": 21,
   "metadata": {},
   "outputs": [
    {
     "data": {
      "text/plain": [
       "$682.00    1\n",
       "$249.00    1\n",
       "$242.00    1\n",
       "$634.99    1\n",
       "$949.99    1\n",
       "$303.00    1\n",
       "$588.00    1\n",
       "$219.99    1\n",
       "$339.00    1\n",
       "$579.99    1\n",
       "$638.99    1\n",
       "$249.43    1\n",
       "$355.98    1\n",
       "Name: Preco, dtype: int64"
      ]
     },
     "execution_count": 21,
     "metadata": {},
     "output_type": "execute_result"
    }
   ],
   "source": [
    "# Buscando o total de registros por preço\n",
    "df_dados_notebooks['Preco'].value_counts(dropna = False)"
   ]
  },
  {
   "cell_type": "markdown",
   "metadata": {},
   "source": [
    "Ok. A coluna preço está com o símbolo de $ nos valores. Vamos remover isso e ajustar pontos e vírgulas."
   ]
  },
  {
   "cell_type": "code",
   "execution_count": 22,
   "metadata": {},
   "outputs": [],
   "source": [
    "# Função para limpeza da coluna de preço\n",
    "def limpa_preco(price):\n",
    "    \n",
    "    # Remove o '$'\n",
    "    price = price.replace('$', '')  \n",
    "    \n",
    "    # Remove a ',' \n",
    "    price = price.replace(',', '') \n",
    "    \n",
    "    # Converte o tipo de dado para numérico\n",
    "    price = pd.to_numeric(price)   \n",
    "    \n",
    "    # Arredonda os valores\n",
    "    price = price.round()   \n",
    "    \n",
    "    return price"
   ]
  },
  {
   "cell_type": "code",
   "execution_count": 23,
   "metadata": {},
   "outputs": [],
   "source": [
    "# Criamos uma nova coluna com o preço limpo\n",
    "df_dados_notebooks['Preco_Final'] = df_dados_notebooks['Preco'].apply(limpa_preco)"
   ]
  },
  {
   "cell_type": "code",
   "execution_count": 24,
   "metadata": {},
   "outputs": [],
   "source": [
    "# Vamos remover os registros com preços menores que 150, pois devem ser acessórios\n",
    "df_dados_notebooks = df_dados_notebooks[df_dados_notebooks['Preco_Final'] >= 150]"
   ]
  },
  {
   "cell_type": "code",
   "execution_count": 25,
   "metadata": {},
   "outputs": [
    {
     "data": {
      "text/plain": [
       "(13, 4)"
      ]
     },
     "execution_count": 25,
     "metadata": {},
     "output_type": "execute_result"
    }
   ],
   "source": [
    "# Shape\n",
    "df_dados_notebooks.shape"
   ]
  },
  {
   "cell_type": "code",
   "execution_count": 26,
   "metadata": {},
   "outputs": [
    {
     "data": {
      "text/html": [
       "<div>\n",
       "<style scoped>\n",
       "    .dataframe tbody tr th:only-of-type {\n",
       "        vertical-align: middle;\n",
       "    }\n",
       "\n",
       "    .dataframe tbody tr th {\n",
       "        vertical-align: top;\n",
       "    }\n",
       "\n",
       "    .dataframe thead th {\n",
       "        text-align: right;\n",
       "    }\n",
       "</style>\n",
       "<table border=\"1\" class=\"dataframe\">\n",
       "  <thead>\n",
       "    <tr style=\"text-align: right;\">\n",
       "      <th></th>\n",
       "      <th>Nome</th>\n",
       "      <th>Preco</th>\n",
       "      <th>Avaliacao</th>\n",
       "      <th>Preco_Final</th>\n",
       "    </tr>\n",
       "  </thead>\n",
       "  <tbody>\n",
       "    <tr>\n",
       "      <td>0</td>\n",
       "      <td>2020 HP Pavilion 14\" HD Display Laptop Compute...</td>\n",
       "      <td>$339.00</td>\n",
       "      <td>4.2 out of 5 stars</td>\n",
       "      <td>339.0</td>\n",
       "    </tr>\n",
       "    <tr>\n",
       "      <td>1</td>\n",
       "      <td>HP 14in High Performance Laptop (AMD Ryzen 3 3...</td>\n",
       "      <td>$303.00</td>\n",
       "      <td>3.8 out of 5 stars</td>\n",
       "      <td>303.0</td>\n",
       "    </tr>\n",
       "    <tr>\n",
       "      <td>2</td>\n",
       "      <td>ASUS ZenBook 13 Ultra Slim Laptop, 13.3” FHD W...</td>\n",
       "      <td>$949.99</td>\n",
       "      <td>4.0 out of 5 stars</td>\n",
       "      <td>950.0</td>\n",
       "    </tr>\n",
       "    <tr>\n",
       "      <td>3</td>\n",
       "      <td>2020 Lenovo IdeaPad Laptop ComputerAMD A6-9220...</td>\n",
       "      <td>$242.00</td>\n",
       "      <td>3.5 out of 5 stars</td>\n",
       "      <td>242.0</td>\n",
       "    </tr>\n",
       "    <tr>\n",
       "      <td>6</td>\n",
       "      <td>2018 Newest HP Premium High Performance Busine...</td>\n",
       "      <td>$355.98</td>\n",
       "      <td>4.4 out of 5 stars</td>\n",
       "      <td>356.0</td>\n",
       "    </tr>\n",
       "    <tr>\n",
       "      <td>7</td>\n",
       "      <td>2020 HP 17.3\" Laptop Computer/ 8th Gen Intel Q...</td>\n",
       "      <td>$588.00</td>\n",
       "      <td>4.2 out of 5 stars</td>\n",
       "      <td>588.0</td>\n",
       "    </tr>\n",
       "    <tr>\n",
       "      <td>8</td>\n",
       "      <td>New HP Pavilion 2-in-1 15.6\" HD Touchscreen La...</td>\n",
       "      <td>$682.00</td>\n",
       "      <td>4.3 out of 5 stars</td>\n",
       "      <td>682.0</td>\n",
       "    </tr>\n",
       "    <tr>\n",
       "      <td>9</td>\n",
       "      <td>HP Stream 14-inch Laptop, AMD Dual-Core A4-912...</td>\n",
       "      <td>$219.99</td>\n",
       "      <td>4.1 out of 5 stars</td>\n",
       "      <td>220.0</td>\n",
       "    </tr>\n",
       "    <tr>\n",
       "      <td>10</td>\n",
       "      <td>Jumper EZbook X3 Windows 10 Laptop, Laptop com...</td>\n",
       "      <td>$249.00</td>\n",
       "      <td>3.8 out of 5 stars</td>\n",
       "      <td>249.0</td>\n",
       "    </tr>\n",
       "    <tr>\n",
       "      <td>11</td>\n",
       "      <td>HP Stream 14-inch Laptop, AMD Dual-Core A4-912...</td>\n",
       "      <td>$249.43</td>\n",
       "      <td>4.0 out of 5 stars</td>\n",
       "      <td>249.0</td>\n",
       "    </tr>\n",
       "  </tbody>\n",
       "</table>\n",
       "</div>"
      ],
      "text/plain": [
       "                                                 Nome    Preco  \\\n",
       "0   2020 HP Pavilion 14\" HD Display Laptop Compute...  $339.00   \n",
       "1   HP 14in High Performance Laptop (AMD Ryzen 3 3...  $303.00   \n",
       "2   ASUS ZenBook 13 Ultra Slim Laptop, 13.3” FHD W...  $949.99   \n",
       "3   2020 Lenovo IdeaPad Laptop ComputerAMD A6-9220...  $242.00   \n",
       "6   2018 Newest HP Premium High Performance Busine...  $355.98   \n",
       "7   2020 HP 17.3\" Laptop Computer/ 8th Gen Intel Q...  $588.00   \n",
       "8   New HP Pavilion 2-in-1 15.6\" HD Touchscreen La...  $682.00   \n",
       "9   HP Stream 14-inch Laptop, AMD Dual-Core A4-912...  $219.99   \n",
       "10  Jumper EZbook X3 Windows 10 Laptop, Laptop com...  $249.00   \n",
       "11  HP Stream 14-inch Laptop, AMD Dual-Core A4-912...  $249.43   \n",
       "\n",
       "             Avaliacao  Preco_Final  \n",
       "0   4.2 out of 5 stars        339.0  \n",
       "1   3.8 out of 5 stars        303.0  \n",
       "2   4.0 out of 5 stars        950.0  \n",
       "3   3.5 out of 5 stars        242.0  \n",
       "6   4.4 out of 5 stars        356.0  \n",
       "7   4.2 out of 5 stars        588.0  \n",
       "8   4.3 out of 5 stars        682.0  \n",
       "9   4.1 out of 5 stars        220.0  \n",
       "10  3.8 out of 5 stars        249.0  \n",
       "11  4.0 out of 5 stars        249.0  "
      ]
     },
     "execution_count": 26,
     "metadata": {},
     "output_type": "execute_result"
    }
   ],
   "source": [
    "# Visualiza os dados\n",
    "df_dados_notebooks.head(10)"
   ]
  },
  {
   "cell_type": "code",
   "execution_count": 27,
   "metadata": {},
   "outputs": [],
   "source": [
    "# Não precisamos mais da coluna antiga. Vamos removê-la\n",
    "df_dados_notebooks.drop('Preco', axis = 1, inplace = True)"
   ]
  },
  {
   "cell_type": "code",
   "execution_count": 28,
   "metadata": {},
   "outputs": [
    {
     "data": {
      "text/html": [
       "<div>\n",
       "<style scoped>\n",
       "    .dataframe tbody tr th:only-of-type {\n",
       "        vertical-align: middle;\n",
       "    }\n",
       "\n",
       "    .dataframe tbody tr th {\n",
       "        vertical-align: top;\n",
       "    }\n",
       "\n",
       "    .dataframe thead th {\n",
       "        text-align: right;\n",
       "    }\n",
       "</style>\n",
       "<table border=\"1\" class=\"dataframe\">\n",
       "  <thead>\n",
       "    <tr style=\"text-align: right;\">\n",
       "      <th></th>\n",
       "      <th>Nome</th>\n",
       "      <th>Avaliacao</th>\n",
       "      <th>Preco_Final</th>\n",
       "    </tr>\n",
       "  </thead>\n",
       "  <tbody>\n",
       "    <tr>\n",
       "      <td>0</td>\n",
       "      <td>2020 HP Pavilion 14\" HD Display Laptop Compute...</td>\n",
       "      <td>4.2 out of 5 stars</td>\n",
       "      <td>339.0</td>\n",
       "    </tr>\n",
       "    <tr>\n",
       "      <td>1</td>\n",
       "      <td>HP 14in High Performance Laptop (AMD Ryzen 3 3...</td>\n",
       "      <td>3.8 out of 5 stars</td>\n",
       "      <td>303.0</td>\n",
       "    </tr>\n",
       "    <tr>\n",
       "      <td>2</td>\n",
       "      <td>ASUS ZenBook 13 Ultra Slim Laptop, 13.3” FHD W...</td>\n",
       "      <td>4.0 out of 5 stars</td>\n",
       "      <td>950.0</td>\n",
       "    </tr>\n",
       "  </tbody>\n",
       "</table>\n",
       "</div>"
      ],
      "text/plain": [
       "                                                Nome           Avaliacao  \\\n",
       "0  2020 HP Pavilion 14\" HD Display Laptop Compute...  4.2 out of 5 stars   \n",
       "1  HP 14in High Performance Laptop (AMD Ryzen 3 3...  3.8 out of 5 stars   \n",
       "2  ASUS ZenBook 13 Ultra Slim Laptop, 13.3” FHD W...  4.0 out of 5 stars   \n",
       "\n",
       "   Preco_Final  \n",
       "0        339.0  \n",
       "1        303.0  \n",
       "2        950.0  "
      ]
     },
     "execution_count": 28,
     "metadata": {},
     "output_type": "execute_result"
    }
   ],
   "source": [
    "# Visualiza os dados\n",
    "df_dados_notebooks.head(3)"
   ]
  },
  {
   "cell_type": "markdown",
   "metadata": {},
   "source": [
    "## Limpeza da Coluna de Avaliações\n",
    "\n",
    "A coluna de avaliações possui valores como **3.8 out of 5 stars**. O que é importante aqui para a nossa análise é o primeiro valor. Realizaremos as operações de limpeza nessa coluna."
   ]
  },
  {
   "cell_type": "code",
   "execution_count": 29,
   "metadata": {},
   "outputs": [
    {
     "data": {
      "text/plain": [
       "4.3 out of 5 stars    3\n",
       "4.2 out of 5 stars    3\n",
       "4.0 out of 5 stars    2\n",
       "3.8 out of 5 stars    2\n",
       "4.4 out of 5 stars    1\n",
       "3.5 out of 5 stars    1\n",
       "4.1 out of 5 stars    1\n",
       "Name: Avaliacao, dtype: int64"
      ]
     },
     "execution_count": 29,
     "metadata": {},
     "output_type": "execute_result"
    }
   ],
   "source": [
    "# Número de elementos por tipo de avaliação\n",
    "df_dados_notebooks['Avaliacao'].value_counts(dropna = False)"
   ]
  },
  {
   "cell_type": "code",
   "execution_count": 31,
   "metadata": {},
   "outputs": [],
   "source": [
    "# Função para limpar as avaliações e remover no-info\n",
    "def limpa_aval(aval):\n",
    "    \n",
    "    # Divide a avaliação por espaços\n",
    "    aval = aval.split()\n",
    "    \n",
    "    # Extraímos a primeira coluna (de índice zero)\n",
    "    aval = aval[0]\n",
    "    \n",
    "    # Verificamos o valor \n",
    "    if aval == 'no-info':\n",
    "        aval = 0\n",
    "        \n",
    "    # Convertemos para o tipo inteiro    \n",
    "    aval = pd.to_numeric(aval) \n",
    "    \n",
    "    return aval"
   ]
  },
  {
   "cell_type": "code",
   "execution_count": 30,
   "metadata": {},
   "outputs": [],
   "source": [
    "# Criamos uma nova coluna com o valor processado\n",
    "df_dados_notebooks['Avaliacao_Final'] = df_dados_notebooks['Avaliacao'].apply(limpa_aval)"
   ]
  },
  {
   "cell_type": "code",
   "execution_count": 31,
   "metadata": {},
   "outputs": [
    {
     "data": {
      "text/plain": [
       "(54, 4)"
      ]
     },
     "execution_count": 31,
     "metadata": {},
     "output_type": "execute_result"
    }
   ],
   "source": [
    "# Shape\n",
    "df_dados_notebooks.shape"
   ]
  },
  {
   "cell_type": "code",
   "execution_count": 32,
   "metadata": {},
   "outputs": [
    {
     "data": {
      "text/html": [
       "<div>\n",
       "<style scoped>\n",
       "    .dataframe tbody tr th:only-of-type {\n",
       "        vertical-align: middle;\n",
       "    }\n",
       "\n",
       "    .dataframe tbody tr th {\n",
       "        vertical-align: top;\n",
       "    }\n",
       "\n",
       "    .dataframe thead th {\n",
       "        text-align: right;\n",
       "    }\n",
       "</style>\n",
       "<table border=\"1\" class=\"dataframe\">\n",
       "  <thead>\n",
       "    <tr style=\"text-align: right;\">\n",
       "      <th></th>\n",
       "      <th>Nome</th>\n",
       "      <th>Avaliacao</th>\n",
       "      <th>Preco_Final</th>\n",
       "      <th>Avaliacao_Final</th>\n",
       "    </tr>\n",
       "  </thead>\n",
       "  <tbody>\n",
       "    <tr>\n",
       "      <th>0</th>\n",
       "      <td>ASUS VivoBook 15 Thin and Light Laptop, 15.6” ...</td>\n",
       "      <td>4.3 out of 5 stars</td>\n",
       "      <td>400.0</td>\n",
       "      <td>4.3</td>\n",
       "    </tr>\n",
       "    <tr>\n",
       "      <th>1</th>\n",
       "      <td>Lenovo IdeaPad 3 14\" Laptop, 14.0\" FHD (1920 x...</td>\n",
       "      <td>3.8 out of 5 stars</td>\n",
       "      <td>450.0</td>\n",
       "      <td>3.8</td>\n",
       "    </tr>\n",
       "    <tr>\n",
       "      <th>2</th>\n",
       "      <td>(Renewed) Acer Flagship CB3-532 15.6 inches HD...</td>\n",
       "      <td>4.2 out of 5 stars</td>\n",
       "      <td>198.0</td>\n",
       "      <td>4.2</td>\n",
       "    </tr>\n",
       "    <tr>\n",
       "      <th>3</th>\n",
       "      <td>New ! Dell Inspiron i3583 15.6\" HD Touch-Scree...</td>\n",
       "      <td>4.4 out of 5 stars</td>\n",
       "      <td>597.0</td>\n",
       "      <td>4.4</td>\n",
       "    </tr>\n",
       "    <tr>\n",
       "      <th>7</th>\n",
       "      <td>Lenovo Ideapad L340 Gaming Laptop, 15.6 Inch F...</td>\n",
       "      <td>4.4 out of 5 stars</td>\n",
       "      <td>858.0</td>\n",
       "      <td>4.4</td>\n",
       "    </tr>\n",
       "    <tr>\n",
       "      <th>9</th>\n",
       "      <td>Razer Blade 15 Gaming Laptop: Intel Core i7-97...</td>\n",
       "      <td>4.1 out of 5 stars</td>\n",
       "      <td>1346.0</td>\n",
       "      <td>4.1</td>\n",
       "    </tr>\n",
       "    <tr>\n",
       "      <th>10</th>\n",
       "      <td>CHUWI HeroBook Pro 14.1 inch Windows 10 Laptop...</td>\n",
       "      <td>3.5 out of 5 stars</td>\n",
       "      <td>279.0</td>\n",
       "      <td>3.5</td>\n",
       "    </tr>\n",
       "    <tr>\n",
       "      <th>11</th>\n",
       "      <td>ALLDOCUBE KBook Lite 2-in-1 Laptop, 13.5 inch ...</td>\n",
       "      <td>no-info</td>\n",
       "      <td>280.0</td>\n",
       "      <td>0.0</td>\n",
       "    </tr>\n",
       "    <tr>\n",
       "      <th>12</th>\n",
       "      <td>2020 Lenovo IdeaPad 14 Inch Laptop| AMD A6-922...</td>\n",
       "      <td>3.7 out of 5 stars</td>\n",
       "      <td>279.0</td>\n",
       "      <td>3.7</td>\n",
       "    </tr>\n",
       "    <tr>\n",
       "      <th>13</th>\n",
       "      <td>HP 14\" Touchscreen Home and Business Laptop Ry...</td>\n",
       "      <td>4.3 out of 5 stars</td>\n",
       "      <td>473.0</td>\n",
       "      <td>4.3</td>\n",
       "    </tr>\n",
       "  </tbody>\n",
       "</table>\n",
       "</div>"
      ],
      "text/plain": [
       "                                                 Nome           Avaliacao  \\\n",
       "0   ASUS VivoBook 15 Thin and Light Laptop, 15.6” ...  4.3 out of 5 stars   \n",
       "1   Lenovo IdeaPad 3 14\" Laptop, 14.0\" FHD (1920 x...  3.8 out of 5 stars   \n",
       "2   (Renewed) Acer Flagship CB3-532 15.6 inches HD...  4.2 out of 5 stars   \n",
       "3   New ! Dell Inspiron i3583 15.6\" HD Touch-Scree...  4.4 out of 5 stars   \n",
       "7   Lenovo Ideapad L340 Gaming Laptop, 15.6 Inch F...  4.4 out of 5 stars   \n",
       "9   Razer Blade 15 Gaming Laptop: Intel Core i7-97...  4.1 out of 5 stars   \n",
       "10  CHUWI HeroBook Pro 14.1 inch Windows 10 Laptop...  3.5 out of 5 stars   \n",
       "11  ALLDOCUBE KBook Lite 2-in-1 Laptop, 13.5 inch ...             no-info   \n",
       "12  2020 Lenovo IdeaPad 14 Inch Laptop| AMD A6-922...  3.7 out of 5 stars   \n",
       "13  HP 14\" Touchscreen Home and Business Laptop Ry...  4.3 out of 5 stars   \n",
       "\n",
       "    Preco_Final  Avaliacao_Final  \n",
       "0         400.0              4.3  \n",
       "1         450.0              3.8  \n",
       "2         198.0              4.2  \n",
       "3         597.0              4.4  \n",
       "7         858.0              4.4  \n",
       "9        1346.0              4.1  \n",
       "10        279.0              3.5  \n",
       "11        280.0              0.0  \n",
       "12        279.0              3.7  \n",
       "13        473.0              4.3  "
      ]
     },
     "execution_count": 32,
     "metadata": {},
     "output_type": "execute_result"
    }
   ],
   "source": [
    "# Visualiza os dados\n",
    "df_dados_notebooks.head(10)"
   ]
  },
  {
   "cell_type": "code",
   "execution_count": 33,
   "metadata": {},
   "outputs": [],
   "source": [
    "# Não precisamos mais da coluna antiga. Vamos removê-la\n",
    "df_dados_notebooks.drop('Avaliacao', axis = 1, inplace = True)"
   ]
  },
  {
   "cell_type": "code",
   "execution_count": 34,
   "metadata": {},
   "outputs": [
    {
     "data": {
      "text/html": [
       "<div>\n",
       "<style scoped>\n",
       "    .dataframe tbody tr th:only-of-type {\n",
       "        vertical-align: middle;\n",
       "    }\n",
       "\n",
       "    .dataframe tbody tr th {\n",
       "        vertical-align: top;\n",
       "    }\n",
       "\n",
       "    .dataframe thead th {\n",
       "        text-align: right;\n",
       "    }\n",
       "</style>\n",
       "<table border=\"1\" class=\"dataframe\">\n",
       "  <thead>\n",
       "    <tr style=\"text-align: right;\">\n",
       "      <th></th>\n",
       "      <th>Nome</th>\n",
       "      <th>Preco_Final</th>\n",
       "      <th>Avaliacao_Final</th>\n",
       "    </tr>\n",
       "  </thead>\n",
       "  <tbody>\n",
       "    <tr>\n",
       "      <th>0</th>\n",
       "      <td>ASUS VivoBook 15 Thin and Light Laptop, 15.6” ...</td>\n",
       "      <td>400.0</td>\n",
       "      <td>4.3</td>\n",
       "    </tr>\n",
       "    <tr>\n",
       "      <th>1</th>\n",
       "      <td>Lenovo IdeaPad 3 14\" Laptop, 14.0\" FHD (1920 x...</td>\n",
       "      <td>450.0</td>\n",
       "      <td>3.8</td>\n",
       "    </tr>\n",
       "    <tr>\n",
       "      <th>2</th>\n",
       "      <td>(Renewed) Acer Flagship CB3-532 15.6 inches HD...</td>\n",
       "      <td>198.0</td>\n",
       "      <td>4.2</td>\n",
       "    </tr>\n",
       "  </tbody>\n",
       "</table>\n",
       "</div>"
      ],
      "text/plain": [
       "                                                Nome  Preco_Final  \\\n",
       "0  ASUS VivoBook 15 Thin and Light Laptop, 15.6” ...        400.0   \n",
       "1  Lenovo IdeaPad 3 14\" Laptop, 14.0\" FHD (1920 x...        450.0   \n",
       "2  (Renewed) Acer Flagship CB3-532 15.6 inches HD...        198.0   \n",
       "\n",
       "   Avaliacao_Final  \n",
       "0              4.3  \n",
       "1              3.8  \n",
       "2              4.2  "
      ]
     },
     "execution_count": 34,
     "metadata": {},
     "output_type": "execute_result"
    }
   ],
   "source": [
    "# Visualiza os dados\n",
    "df_dados_notebooks.head(3)"
   ]
  },
  {
   "cell_type": "markdown",
   "metadata": {},
   "source": [
    "Muito bom. Estamos quase lá. Vamos agora processar a coluna nome."
   ]
  },
  {
   "cell_type": "markdown",
   "metadata": {},
   "source": [
    "## Limpeza da Coluna Nome\n",
    "\n",
    "A coluna de nome consiste em muitas informações sobre o produto, além de detalhes técnicos, como nome da marca, tamanho da tela, memória e assim por diante. Portanto, para fazer uma análise eficaz, precisamos extrair essas informações. Nosso próximo passo consiste nesse processo. Esta é a parte mais complicada deste Lab. Para extração, precisamos usar expressões regulares."
   ]
  },
  {
   "cell_type": "code",
   "execution_count": 35,
   "metadata": {},
   "outputs": [
    {
     "data": {
      "text/plain": [
       "0     ASUS VivoBook 15 Thin and Light Laptop, 15.6” ...\n",
       "1     Lenovo IdeaPad 3 14\" Laptop, 14.0\" FHD (1920 x...\n",
       "2     (Renewed) Acer Flagship CB3-532 15.6 inches HD...\n",
       "3     New ! Dell Inspiron i3583 15.6\" HD Touch-Scree...\n",
       "7     Lenovo Ideapad L340 Gaming Laptop, 15.6 Inch F...\n",
       "9     Razer Blade 15 Gaming Laptop: Intel Core i7-97...\n",
       "10    CHUWI HeroBook Pro 14.1 inch Windows 10 Laptop...\n",
       "11    ALLDOCUBE KBook Lite 2-in-1 Laptop, 13.5 inch ...\n",
       "12    2020 Lenovo IdeaPad 14 Inch Laptop| AMD A6-922...\n",
       "13    HP 14\" Touchscreen Home and Business Laptop Ry...\n",
       "14    HP Stream 14-inch Laptop, AMD Dual-Core A4-912...\n",
       "15    2020 Lenovo IdeaPad Laptop ComputerAMD A6-9220...\n",
       "17    Lenovo Ideapad 330 15.6\" Anti Glared HD Premiu...\n",
       "18    New Lenovo Ideapad S145 14\" Laptop Intel Penti...\n",
       "19    2020 ASUS VivoBook 15 15.6 Inch FHD 1080P Lapt...\n",
       "20    Dell Latitude 14 7000 7480 Business UltraBook ...\n",
       "21    IDOL Laptop 10.1Inch Quad Core Ultra Thin PC, ...\n",
       "22    Dell Latitude 14 7000 7480 Business UltraBook ...\n",
       "23    CHUWI HeroBook Pro 14.1 inch Windows 10 Laptop...\n",
       "24    New Lenovo Ideapad S145 14\" Laptop Intel Penti...\n",
       "25    2020 Lenovo IdeaPad Laptop ComputerAMD A6-9220...\n",
       "26    New HP 15.6\" HD Touchscreen Laptop Intel Core ...\n",
       "27    Lenovo IdeaPad S150 (81VS0001US) Laptop, 14\" H...\n",
       "28    HP (17-BY1053DX) 17.3 Laptop - Core i5-8265U -...\n",
       "29    ASUS ZenBook 13 Ultra-Slim Laptop- 13.3” Full ...\n",
       "30    Acer High Performance Spin 11.6inch FHD Multi-...\n",
       "31    Jumper EZbook X3 Windows 10 Laptop, Laptop com...\n",
       "32    Lenovo IdeaPad 3 14\" Laptop, 14.0\" FHD (1920 x...\n",
       "33    ASUS VivoBook 15 Thin and Light Laptop, 15.6” ...\n",
       "34    Acer High Performance Spin 11.6in FHD IPS 1920...\n",
       "35    Lenovo Chromebook C330 2-in-1 Convertible Lapt...\n",
       "36    Microsoft Surface Laptop 1769 (KSR-00001) Inte...\n",
       "38    Lenovo 100E Chromebook 2ND Gen 81QB000AUS Lapt...\n",
       "39    HP 2019 14\" Laptop - Intel Core i3 - 8GB Memor...\n",
       "40    2019 ASUS ImagineBook MJ401TA Laptop Computer|...\n",
       "41    HP 15-bs234wm Intel Pentium N5000 Quad Core 4G...\n",
       "42    TECLAST F7 Plus 14.1“ Windows 10 Laptop,7mm Ul...\n",
       "43    IDOL Laptop 10.1Inch Quad Core Ultra Thin PC, ...\n",
       "44    Dell Latitude 14 7000 7480 Business UltraBook ...\n",
       "45    HP EliteBook 840 G3 - 14” FHD, Intel Core i5-6...\n",
       "46    HP 17.3 Laptop i5-8265u 16GB SSD Drive (16GB/1...\n",
       "47    ASUS ZenBook 13 Ultra-Slim Laptop- 13.3” Full ...\n",
       "48    2019 HP Probook 450 G6 15.6\" HD Business Lapto...\n",
       "49    ASUS VivoBook 15.6\" FHD (1920 x1080) Display L...\n",
       "50    BMAX 2 in 1 Convertible Laptop, 11.6\" FHD (192...\n",
       "53    HP 14-inch Touchscreen Laptop, AMD Ryzen 3-320...\n",
       "54    CHUWI HeroBook Pro 14.1 inch Windows 10 Laptop...\n",
       "55    IDOL Laptop 10.1Inch Quad Core Ultra Thin PC, ...\n",
       "57    2019 ASUS ROG 15.6\" FHD Gaming Laptop Computer...\n",
       "59    New Apple MacBook Pro (13-inch, 16GB RAM, 1TB ...\n",
       "61    MSI GF65 Thin 9SEXR-250 15.6\" 120Hz Gaming Lap...\n",
       "62    2020 ASUS VivoBook 15 15.6 Inch FHD 1080P Lapt...\n",
       "64    Lenovo IdeaPad 3 14\" Laptop, 14.0\" FHD (1920 x...\n",
       "65    ASUS VivoBook 15 Thin and Light Laptop, 15.6” ...\n",
       "Name: Nome, dtype: object"
      ]
     },
     "execution_count": 35,
     "metadata": {},
     "output_type": "execute_result"
    }
   ],
   "source": [
    "# Vamos visualizar a coluna Nome\n",
    "df_dados_notebooks['Nome']"
   ]
  },
  {
   "cell_type": "markdown",
   "metadata": {},
   "source": [
    "Esses 3 pontinhos ao final indicam que a string é muito longa e por isso foi truncada pelo pandas. Mas somos resolvedores de problemas, pesquisamos na documentação Python e encontramos como resolver isso."
   ]
  },
  {
   "cell_type": "code",
   "execution_count": 36,
   "metadata": {},
   "outputs": [],
   "source": [
    "# Parâmetro para imprimir nomes completos\n",
    "pd.set_option('display.max_colwidth', None)"
   ]
  },
  {
   "cell_type": "code",
   "execution_count": 37,
   "metadata": {},
   "outputs": [
    {
     "data": {
      "text/plain": [
       "0                    ASUS VivoBook 15 Thin and Light Laptop, 15.6” FHD Display, Intel i3-1005G1 CPU, 8GB RAM, 128GB SSD, Backlit Keyboard, Fingerprint, Windows 10 Home in S Mode, Slate Gray, F512JA-AS34\n",
       "1         Lenovo IdeaPad 3 14\" Laptop, 14.0\" FHD (1920 x 1080) Display, AMD Ryzen 5 3500U Processor, 8GB DDR4 RAM, 256GB SSD, AMD Radeon Vega 8 Graphics, Narrow Bezel, Windows 10, 81W0003QUS, Abyss Blue\n",
       "2                       (Renewed) Acer Flagship CB3-532 15.6 inches HD Premium Chromebook - Intel Dual-Core Celeron N3060 up to 2.48GH.z, 2GB RAM, 16GB SSD, Wireless AC, HDMI, USB 3.0, Webcam, Chrome OS\n",
       "3          New ! Dell Inspiron i3583 15.6\" HD Touch-Screen Laptop - Intel i5-8265U - 8GB DDR4-256GB SSD - Windows 10 - Wireless-AC - Bluetooth, SD Card Reader, HDMI & USB 3.1 -Waves MaxxAudio Pro- Black\n",
       "7          Lenovo Ideapad L340 Gaming Laptop, 15.6 Inch FHD (1920 X 1080) IPS Display, Intel Core i5-9300H Processor, 8GB DDR4 RAM, 512GB Nvme SSD, NVIDIA GeForce GTX 1650, Windows 10, 81LK00HDUS, Black\n",
       "9           Razer Blade 15 Gaming Laptop: Intel Core i7-9750H 6 Core, NVIDIA GeForce GTX 1660 Ti, 15.6\" FHD 144Hz, 16GB RAM, 256GB SSD, CNC Aluminum, Chroma RGB Lighting, Thunderbolt 3, 9th Gen i7-9750H\n",
       "10                                                         CHUWI HeroBook Pro 14.1 inch Windows 10 Laptop PC, 8G RAM / 256GB SSD with 1080P Display, Intel Gmini Lake N4000 Notebook, Thin and Lightweight\n",
       "11                                     ALLDOCUBE KBook Lite 2-in-1 Laptop, 13.5 inch HD(3000×2000) IPS Display, Intel Apollo Lake N3350 Processor(2.4Ghz), 4GB RAM, 128GB SSD Storage, Windows 10 - Silver\n",
       "12                               2020 Lenovo IdeaPad 14 Inch Laptop| AMD A6-9220e up to 2.4 GHz| 4GB RAM| 64GB eMMC| WiFi| Windows 10 S (1 Year Office 365 Personal Included) + NexiGo 32GB SD Card Bundle\n",
       "13         HP 14\" Touchscreen Home and Business Laptop Ryzen 3-3200U, 8GB RAM, 128GB M.2 SSD, Dual-Core up to 3.50 GHz, Vega 3 Graphics, RJ-45, USB-C, 4K Output HDMI, Bluetooth, Webcam, 1366x768, Win 10\n",
       "14                            HP Stream 14-inch Laptop, AMD Dual-Core A4-9120E Processor, 4 GB SDRAM, 64 GB eMMC, Windows 10 Home in S Mode with Office 365 Personal for One Year (14-ds0040nr, Rose Pink)\n",
       "15                                   2020 Lenovo IdeaPad Laptop ComputerAMD A6-9220e 1.6GHz 4GB Memory 64GB eMMC Flash Memory 14\" AMD Radeon R4 AC WiFi Microsoft Office 365 Platinum Gray Windows 10 Home\n",
       "17                  Lenovo Ideapad 330 15.6\" Anti Glared HD Premium Business Laptop (AMD A9-9425 up to 3.7 GHz, 8GB DDR4 Memory, 256GB SSD, AMD Radeon R5 Graphic, DVD-RW, HDMI, Windows 10 Home) - Purple\n",
       "18                                                                               New Lenovo Ideapad S145 14\" Laptop Intel Pentium Gold 5405U Dual-Core CPU, 4GB Memory 128GB SSD Windows 10 Grey (Renewed)\n",
       "19    2020 ASUS VivoBook 15 15.6 Inch FHD 1080P Laptop (AMD Ryzen 3 3200U up to 3.5GHz, 8GB DDR4 RAM, 128GB SSD, AMD Radeon Vega 3, Backlit Keyboard, FP Reader, WiFi, Bluetooth, HDMI, Windows 10) (Grey)\n",
       "20                                      Dell Latitude 14 7000 7480 Business UltraBook - 14in (1366x768), Intel Core i5-6300U, 256GB SSD, 8GB DDR4, Backlit Keys, Webcam, Windows 10 Professional (Renewed)\n",
       "21                               IDOL Laptop 10.1Inch Quad Core Ultra Thin PC, 2GB RAM 32GB Storage 1.92GHZ USB 2.0 Windows 10 HD Graphics WiFi, HDMI, BT, Supports 128GB TF-Card Notebook Computer (Pink)\n",
       "22                                      Dell Latitude 14 7000 7480 Business UltraBook - 14in (1366x768), Intel Core i5-6300U, 256GB SSD, 8GB DDR4, Backlit Keys, Webcam, Windows 10 Professional (Renewed)\n",
       "23                                                         CHUWI HeroBook Pro 14.1 inch Windows 10 Laptop PC, 8G RAM / 256GB SSD with 1080P Display, Intel Gmini Lake N4000 Notebook, Thin and Lightweight\n",
       "24                                                                               New Lenovo Ideapad S145 14\" Laptop Intel Pentium Gold 5405U Dual-Core CPU, 4GB Memory 128GB SSD Windows 10 Grey (Renewed)\n",
       "25                                   2020 Lenovo IdeaPad Laptop ComputerAMD A6-9220e 1.6GHz 4GB Memory 64GB eMMC Flash Memory 14\" AMD Radeon R4 AC WiFi Microsoft Office 365 Platinum Gray Windows 10 Home\n",
       "26                                                             New HP 15.6\" HD Touchscreen Laptop Intel Core i3-1005G1 8GB DDR4 RAM 128GB SSD HDMI Bluetooth 802.11/b/g/n/ac Windows 10 15-dy1731ms Silver\n",
       "27                                             Lenovo IdeaPad S150 (81VS0001US) Laptop, 14\" HD Display, AMD A6-9220e Upto 2.4GHz, 4GB RAM, 64GB eMMC, HDMI, Card Reader, Wi-Fi, Bluetooth, Windows 10 Home\n",
       "28                                                              HP (17-BY1053DX) 17.3 Laptop - Core i5-8265U - 8GB Memory - 256GB Solid State Drive - Windows 10 Home in S Mode - Jet Black/Maglia Pattern\n",
       "29                        ASUS ZenBook 13 Ultra-Slim Laptop- 13.3” Full HD Wideview, 8th Gen Intel Core I5-8265U, 8GB LPDDR3, 512GB PCIe SSD, Backlit KB, Fingerprint, Windows 10- UX331FA-AS51 Slate Grey\n",
       "30                                        Acer High Performance Spin 11.6inch FHD Multi-Touch Laptop, Intel Pentium N4200 Quad-core Up to 2.5GHz, 4GB RAM, 64GB SSD, WiFi, Bluetooth, HDMI, Win10(Renewed)\n",
       "31                                            Jumper EZbook X3 Windows 10 Laptop, Laptop computer 13.3'' HD PC Laptops Intel N3350 6GB DDR3L 64GB eMMC 2.4G/5G WiFi supports up to 128GB TF card expansion\n",
       "32        Lenovo IdeaPad 3 14\" Laptop, 14.0\" FHD (1920 x 1080) Display, AMD Ryzen 5 3500U Processor, 8GB DDR4 RAM, 256GB SSD, AMD Radeon Vega 8 Graphics, Narrow Bezel, Windows 10, 81W0003QUS, Abyss Blue\n",
       "33                   ASUS VivoBook 15 Thin and Light Laptop, 15.6” FHD Display, Intel i3-1005G1 CPU, 8GB RAM, 128GB SSD, Backlit Keyboard, Fingerprint, Windows 10 Home in S Mode, Slate Gray, F512JA-AS34\n",
       "34               Acer High Performance Spin 11.6in FHD IPS 1920 x 1080 Multi-Touch Laptop, Intel Pentium N4200 Quad-core Up to 2.5GHz, 4GB RAM, 64GB SSD, 802.11ac WiFi, Bluetooth, HDMI, Win 10 (Renewed)\n",
       "35                      Lenovo Chromebook C330 2-in-1 Convertible Laptop, 11.6-Inch HD (1366 x 768) IPS Display, MediaTek MT8173C Processor, 4GB LPDDR3, 64 GB eMMC, Chrome OS, 81HY0000US, Blizzard White\n",
       "36                                                                                               Microsoft Surface Laptop 1769 (KSR-00001) Intel Core i5, 8GB RAM, 128GB SSD, 13.5-in Touchscreen, Win10 S\n",
       "38                      Lenovo 100E Chromebook 2ND Gen 81QB000AUS Laptop Computer, 11.6\" HD (1366 X 768) Display, MediaTek MT8173C Processor, 4GB RAM, 16GB eMMC TLC SSD, Powervr GX6250, Chrome OS, Black\n",
       "39                                                                                     HP 2019 14\" Laptop - Intel Core i3 - 8GB Memory - 128GB Solid State Drive - Ash Silver Keyboard Frame (14-CF0014DX)\n",
       "40    2019 ASUS ImagineBook MJ401TA Laptop Computer| Intel Core m3-8100Y up to 3.4GHz| 4GB Memory, 128GB SSD| 14\" FHD, Intel UHD Graphics 615| 802.11AC WiFi, USB Type-C, HDMI, Textured White| Windows 10\n",
       "41                                                                                                             HP 15-bs234wm Intel Pentium N5000 Quad Core 4GB 500GB 15.6-inch Windows 10 Laptop (Renewed)\n",
       "42      TECLAST F7 Plus 14.1“ Windows 10 Laptop,7mm Ultra Thin Metal Body,8GB RAM 256GB ROM,1920x1080P FHD IPS Intel Quad Core Laptop Computer Backlit Keyboard Notebook AC WiFi USB3.0 BT4.2 Support Linu\n",
       "43                               IDOL Laptop 10.1Inch Quad Core Ultra Thin PC, 2GB RAM 32GB Storage 1.92GHZ USB 2.0 Windows 10 HD Graphics WiFi, HDMI, BT, Supports 128GB TF-Card Notebook Computer (Pink)\n",
       "44                                      Dell Latitude 14 7000 7480 Business UltraBook - 14in (1366x768), Intel Core i5-6300U, 256GB SSD, 8GB DDR4, Backlit Keys, Webcam, Windows 10 Professional (Renewed)\n",
       "45                                                                                  HP EliteBook 840 G3 - 14” FHD, Intel Core i5-6300U 2.4Ghz, 8GB DDR4, 256GB SSD, Bluetooth 4.2, Windows 10 64 (Renewed)\n",
       "46                                                                                                                                                   HP 17.3 Laptop i5-8265u 16GB SSD Drive (16GB/1TB SSD)\n",
       "47                        ASUS ZenBook 13 Ultra-Slim Laptop- 13.3” Full HD Wideview, 8th Gen Intel Core I5-8265U, 8GB LPDDR3, 512GB PCIe SSD, Backlit KB, Fingerprint, Windows 10- UX331FA-AS51 Slate Grey\n",
       "48                          2019 HP Probook 450 G6 15.6\" HD Business Laptop (Intel Quad-Core i5-8265U, 16GB DDR4 RAM, 512GB M.2 SSD, UHD 620) Backlit, USB Type-C, RJ45, HDMI, Windows 10 Pro Professional\n",
       "49          ASUS VivoBook 15.6\" FHD (1920 x1080) Display Laptop PC, AMD Ryzen 7 3700U Processor, 12GB DDR4, 512GB PCIe SSD, Bluetooth, Webcam, HDMI, WiFi, AMD Radeon RX Vega 10 Graphics, Windows 10 Home\n",
       "50          BMAX 2 in 1 Convertible Laptop, 11.6\" FHD (1920 X 1080) IPS Touchscreen, Intel Quad-Core Celeron N4120, 8GB DDR4, 256GB SATA SSD, Expandable 1TB SSD, Windows 10, Type-C, HDMI, All-Metal Body\n",
       "53                                                      HP 14-inch Touchscreen Laptop, AMD Ryzen 3-3200U up to 3.5GHz, 8GB DDR4, 256GB SSD, Bluetooth, USB 3.1 Type-C, Webcam, WiFi, HDMI, Windows 10 Home\n",
       "54                                                         CHUWI HeroBook Pro 14.1 inch Windows 10 Laptop PC, 8G RAM / 256GB SSD with 1080P Display, Intel Gmini Lake N4000 Notebook, Thin and Lightweight\n",
       "55                               IDOL Laptop 10.1Inch Quad Core Ultra Thin PC, 2GB RAM 32GB Storage 1.92GHZ USB 2.0 Windows 10 HD Graphics WiFi, HDMI, BT, Supports 128GB TF-Card Notebook Computer (Pink)\n",
       "57                2019 ASUS ROG 15.6\" FHD Gaming Laptop Computer, Intel Hexa-Core i7-9750H Up to 4.5GHz, 16GB DDR4, 1TB HDD + 512GB SSD, NVIDIA GeForce GTX 1650, 802.11ac WiFi, HDMI, USB 3.0, Windows 10\n",
       "59                                                                                                                 New Apple MacBook Pro (13-inch, 16GB RAM, 1TB SSD Storage, Magic Keyboard) - Space Gray\n",
       "61                                                                                              MSI GF65 Thin 9SEXR-250 15.6\" 120Hz Gaming Laptop Intel Core i7-9750H RTX2060 8GB 512GB Nvme SSD Win10Home\n",
       "62    2020 ASUS VivoBook 15 15.6 Inch FHD 1080P Laptop (AMD Ryzen 3 3200U up to 3.5GHz, 8GB DDR4 RAM, 128GB SSD, AMD Radeon Vega 3, Backlit Keyboard, FP Reader, WiFi, Bluetooth, HDMI, Windows 10) (Grey)\n",
       "64        Lenovo IdeaPad 3 14\" Laptop, 14.0\" FHD (1920 x 1080) Display, AMD Ryzen 5 3500U Processor, 8GB DDR4 RAM, 256GB SSD, AMD Radeon Vega 8 Graphics, Narrow Bezel, Windows 10, 81W0003QUS, Abyss Blue\n",
       "65                   ASUS VivoBook 15 Thin and Light Laptop, 15.6” FHD Display, Intel i3-1005G1 CPU, 8GB RAM, 128GB SSD, Backlit Keyboard, Fingerprint, Windows 10 Home in S Mode, Slate Gray, F512JA-AS34\n",
       "Name: Nome, dtype: object"
      ]
     },
     "execution_count": 37,
     "metadata": {},
     "output_type": "execute_result"
    }
   ],
   "source": [
    "# Vamos visualizar a coluna Nome\n",
    "df_dados_notebooks['Nome']"
   ]
  },
  {
   "cell_type": "code",
   "execution_count": 38,
   "metadata": {},
   "outputs": [
    {
     "data": {
      "text/plain": [
       "'New ! Dell Inspiron i3583 15.6\" HD Touch-Screen Laptop - Intel i5-8265U - 8GB DDR4-256GB SSD - Windows 10 - Wireless-AC - Bluetooth, SD Card Reader, HDMI & USB 3.1 -Waves MaxxAudio Pro- Black'"
      ]
     },
     "execution_count": 38,
     "metadata": {},
     "output_type": "execute_result"
    }
   ],
   "source": [
    "# Vamos visualizar um registro\n",
    "df_dados_notebooks['Nome'][3]"
   ]
  },
  {
   "cell_type": "markdown",
   "metadata": {},
   "source": [
    "Agora sim! Primeiro, extrairemos os detalhes do processador e criaremos uma nova coluna com essas informações. Se não compreender a regra usada abaixo com expressão regular, então visite a documentação oficial:\n",
    "\n",
    "https://docs.python.org/3/library/re.html"
   ]
  },
  {
   "cell_type": "code",
   "execution_count": 39,
   "metadata": {},
   "outputs": [],
   "source": [
    "# Regra para buscar o padrão na string\n",
    "regra_busca_processador = r'\\b([iI][\\d])\\b'"
   ]
  },
  {
   "cell_type": "code",
   "execution_count": 40,
   "metadata": {},
   "outputs": [],
   "source": [
    "# Cria a coluna para o processador\n",
    "df_dados_notebooks['Processador'] = df_dados_notebooks['Nome'].str.extract(regra_busca_processador)"
   ]
  },
  {
   "cell_type": "markdown",
   "metadata": {},
   "source": [
    "Vamos padronizar o nome do processador substituindo I5 por i5, por exemplo."
   ]
  },
  {
   "cell_type": "code",
   "execution_count": 41,
   "metadata": {},
   "outputs": [],
   "source": [
    "# Replace 'I5' com 'i5'\n",
    "df_dados_notebooks['Processador'] = df_dados_notebooks['Processador'].str.replace('I', 'i')"
   ]
  },
  {
   "cell_type": "code",
   "execution_count": 42,
   "metadata": {},
   "outputs": [
    {
     "data": {
      "text/html": [
       "<div>\n",
       "<style scoped>\n",
       "    .dataframe tbody tr th:only-of-type {\n",
       "        vertical-align: middle;\n",
       "    }\n",
       "\n",
       "    .dataframe tbody tr th {\n",
       "        vertical-align: top;\n",
       "    }\n",
       "\n",
       "    .dataframe thead th {\n",
       "        text-align: right;\n",
       "    }\n",
       "</style>\n",
       "<table border=\"1\" class=\"dataframe\">\n",
       "  <thead>\n",
       "    <tr style=\"text-align: right;\">\n",
       "      <th></th>\n",
       "      <th>Nome</th>\n",
       "      <th>Preco_Final</th>\n",
       "      <th>Avaliacao_Final</th>\n",
       "      <th>Processador</th>\n",
       "    </tr>\n",
       "  </thead>\n",
       "  <tbody>\n",
       "    <tr>\n",
       "      <th>0</th>\n",
       "      <td>ASUS VivoBook 15 Thin and Light Laptop, 15.6” FHD Display, Intel i3-1005G1 CPU, 8GB RAM, 128GB SSD, Backlit Keyboard, Fingerprint, Windows 10 Home in S Mode, Slate Gray, F512JA-AS34</td>\n",
       "      <td>400.0</td>\n",
       "      <td>4.3</td>\n",
       "      <td>i3</td>\n",
       "    </tr>\n",
       "    <tr>\n",
       "      <th>1</th>\n",
       "      <td>Lenovo IdeaPad 3 14\" Laptop, 14.0\" FHD (1920 x 1080) Display, AMD Ryzen 5 3500U Processor, 8GB DDR4 RAM, 256GB SSD, AMD Radeon Vega 8 Graphics, Narrow Bezel, Windows 10, 81W0003QUS, Abyss Blue</td>\n",
       "      <td>450.0</td>\n",
       "      <td>3.8</td>\n",
       "      <td>NaN</td>\n",
       "    </tr>\n",
       "    <tr>\n",
       "      <th>2</th>\n",
       "      <td>(Renewed) Acer Flagship CB3-532 15.6 inches HD Premium Chromebook - Intel Dual-Core Celeron N3060 up to 2.48GH.z, 2GB RAM, 16GB SSD, Wireless AC, HDMI, USB 3.0, Webcam, Chrome OS</td>\n",
       "      <td>198.0</td>\n",
       "      <td>4.2</td>\n",
       "      <td>NaN</td>\n",
       "    </tr>\n",
       "    <tr>\n",
       "      <th>3</th>\n",
       "      <td>New ! Dell Inspiron i3583 15.6\" HD Touch-Screen Laptop - Intel i5-8265U - 8GB DDR4-256GB SSD - Windows 10 - Wireless-AC - Bluetooth, SD Card Reader, HDMI &amp; USB 3.1 -Waves MaxxAudio Pro- Black</td>\n",
       "      <td>597.0</td>\n",
       "      <td>4.4</td>\n",
       "      <td>i5</td>\n",
       "    </tr>\n",
       "    <tr>\n",
       "      <th>7</th>\n",
       "      <td>Lenovo Ideapad L340 Gaming Laptop, 15.6 Inch FHD (1920 X 1080) IPS Display, Intel Core i5-9300H Processor, 8GB DDR4 RAM, 512GB Nvme SSD, NVIDIA GeForce GTX 1650, Windows 10, 81LK00HDUS, Black</td>\n",
       "      <td>858.0</td>\n",
       "      <td>4.4</td>\n",
       "      <td>i5</td>\n",
       "    </tr>\n",
       "  </tbody>\n",
       "</table>\n",
       "</div>"
      ],
      "text/plain": [
       "                                                                                                                                                                                               Nome  \\\n",
       "0             ASUS VivoBook 15 Thin and Light Laptop, 15.6” FHD Display, Intel i3-1005G1 CPU, 8GB RAM, 128GB SSD, Backlit Keyboard, Fingerprint, Windows 10 Home in S Mode, Slate Gray, F512JA-AS34   \n",
       "1  Lenovo IdeaPad 3 14\" Laptop, 14.0\" FHD (1920 x 1080) Display, AMD Ryzen 5 3500U Processor, 8GB DDR4 RAM, 256GB SSD, AMD Radeon Vega 8 Graphics, Narrow Bezel, Windows 10, 81W0003QUS, Abyss Blue   \n",
       "2                (Renewed) Acer Flagship CB3-532 15.6 inches HD Premium Chromebook - Intel Dual-Core Celeron N3060 up to 2.48GH.z, 2GB RAM, 16GB SSD, Wireless AC, HDMI, USB 3.0, Webcam, Chrome OS   \n",
       "3   New ! Dell Inspiron i3583 15.6\" HD Touch-Screen Laptop - Intel i5-8265U - 8GB DDR4-256GB SSD - Windows 10 - Wireless-AC - Bluetooth, SD Card Reader, HDMI & USB 3.1 -Waves MaxxAudio Pro- Black   \n",
       "7   Lenovo Ideapad L340 Gaming Laptop, 15.6 Inch FHD (1920 X 1080) IPS Display, Intel Core i5-9300H Processor, 8GB DDR4 RAM, 512GB Nvme SSD, NVIDIA GeForce GTX 1650, Windows 10, 81LK00HDUS, Black   \n",
       "\n",
       "   Preco_Final  Avaliacao_Final Processador  \n",
       "0        400.0              4.3          i3  \n",
       "1        450.0              3.8         NaN  \n",
       "2        198.0              4.2         NaN  \n",
       "3        597.0              4.4          i5  \n",
       "7        858.0              4.4          i5  "
      ]
     },
     "execution_count": 42,
     "metadata": {},
     "output_type": "execute_result"
    }
   ],
   "source": [
    "# Visualiza os dados\n",
    "df_dados_notebooks.head()"
   ]
  },
  {
   "cell_type": "markdown",
   "metadata": {},
   "source": [
    "Valores nulos foram gerados, provavelmente porque alguns laptops devem ter outro tipo de processador. Mas buscaremos somente core i5 ou i7. \n",
    "\n",
    "Usaremos o mesmo processo para extrair informações sobre a memória RAM."
   ]
  },
  {
   "cell_type": "code",
   "execution_count": 43,
   "metadata": {
    "scrolled": true
   },
   "outputs": [],
   "source": [
    "# Regra de extração   \n",
    "regra_busca_ram = r'\\b([\\d]+)[GB]+[ ][\\+ LlPpDdRrAaMmEeOoYy\\d]+\\b'"
   ]
  },
  {
   "cell_type": "code",
   "execution_count": 44,
   "metadata": {},
   "outputs": [],
   "source": [
    "# Extrai os dados e cria nova coluna\n",
    "df_dados_notebooks['Memoria_RAM'] = df_dados_notebooks['Nome'].str.extract(regra_busca_ram)"
   ]
  },
  {
   "cell_type": "code",
   "execution_count": 45,
   "metadata": {},
   "outputs": [],
   "source": [
    "# Função para limpar a coluna Memoria_RAM\n",
    "def limpa_ram(ram):\n",
    "    ram = pd.to_numeric(ram)\n",
    "    return ram"
   ]
  },
  {
   "cell_type": "code",
   "execution_count": 46,
   "metadata": {},
   "outputs": [],
   "source": [
    "# Aplica a função de limpeza\n",
    "df_dados_notebooks['Memoria_RAM'] = df_dados_notebooks['Memoria_RAM'].apply(limpa_ram)"
   ]
  },
  {
   "cell_type": "code",
   "execution_count": 47,
   "metadata": {},
   "outputs": [
    {
     "data": {
      "text/html": [
       "<div>\n",
       "<style scoped>\n",
       "    .dataframe tbody tr th:only-of-type {\n",
       "        vertical-align: middle;\n",
       "    }\n",
       "\n",
       "    .dataframe tbody tr th {\n",
       "        vertical-align: top;\n",
       "    }\n",
       "\n",
       "    .dataframe thead th {\n",
       "        text-align: right;\n",
       "    }\n",
       "</style>\n",
       "<table border=\"1\" class=\"dataframe\">\n",
       "  <thead>\n",
       "    <tr style=\"text-align: right;\">\n",
       "      <th></th>\n",
       "      <th>Nome</th>\n",
       "      <th>Preco_Final</th>\n",
       "      <th>Avaliacao_Final</th>\n",
       "      <th>Processador</th>\n",
       "      <th>Memoria_RAM</th>\n",
       "    </tr>\n",
       "  </thead>\n",
       "  <tbody>\n",
       "    <tr>\n",
       "      <th>0</th>\n",
       "      <td>ASUS VivoBook 15 Thin and Light Laptop, 15.6” FHD Display, Intel i3-1005G1 CPU, 8GB RAM, 128GB SSD, Backlit Keyboard, Fingerprint, Windows 10 Home in S Mode, Slate Gray, F512JA-AS34</td>\n",
       "      <td>400.0</td>\n",
       "      <td>4.3</td>\n",
       "      <td>i3</td>\n",
       "      <td>8.0</td>\n",
       "    </tr>\n",
       "    <tr>\n",
       "      <th>1</th>\n",
       "      <td>Lenovo IdeaPad 3 14\" Laptop, 14.0\" FHD (1920 x 1080) Display, AMD Ryzen 5 3500U Processor, 8GB DDR4 RAM, 256GB SSD, AMD Radeon Vega 8 Graphics, Narrow Bezel, Windows 10, 81W0003QUS, Abyss Blue</td>\n",
       "      <td>450.0</td>\n",
       "      <td>3.8</td>\n",
       "      <td>NaN</td>\n",
       "      <td>8.0</td>\n",
       "    </tr>\n",
       "    <tr>\n",
       "      <th>2</th>\n",
       "      <td>(Renewed) Acer Flagship CB3-532 15.6 inches HD Premium Chromebook - Intel Dual-Core Celeron N3060 up to 2.48GH.z, 2GB RAM, 16GB SSD, Wireless AC, HDMI, USB 3.0, Webcam, Chrome OS</td>\n",
       "      <td>198.0</td>\n",
       "      <td>4.2</td>\n",
       "      <td>NaN</td>\n",
       "      <td>2.0</td>\n",
       "    </tr>\n",
       "    <tr>\n",
       "      <th>3</th>\n",
       "      <td>New ! Dell Inspiron i3583 15.6\" HD Touch-Screen Laptop - Intel i5-8265U - 8GB DDR4-256GB SSD - Windows 10 - Wireless-AC - Bluetooth, SD Card Reader, HDMI &amp; USB 3.1 -Waves MaxxAudio Pro- Black</td>\n",
       "      <td>597.0</td>\n",
       "      <td>4.4</td>\n",
       "      <td>i5</td>\n",
       "      <td>8.0</td>\n",
       "    </tr>\n",
       "    <tr>\n",
       "      <th>7</th>\n",
       "      <td>Lenovo Ideapad L340 Gaming Laptop, 15.6 Inch FHD (1920 X 1080) IPS Display, Intel Core i5-9300H Processor, 8GB DDR4 RAM, 512GB Nvme SSD, NVIDIA GeForce GTX 1650, Windows 10, 81LK00HDUS, Black</td>\n",
       "      <td>858.0</td>\n",
       "      <td>4.4</td>\n",
       "      <td>i5</td>\n",
       "      <td>8.0</td>\n",
       "    </tr>\n",
       "  </tbody>\n",
       "</table>\n",
       "</div>"
      ],
      "text/plain": [
       "                                                                                                                                                                                               Nome  \\\n",
       "0             ASUS VivoBook 15 Thin and Light Laptop, 15.6” FHD Display, Intel i3-1005G1 CPU, 8GB RAM, 128GB SSD, Backlit Keyboard, Fingerprint, Windows 10 Home in S Mode, Slate Gray, F512JA-AS34   \n",
       "1  Lenovo IdeaPad 3 14\" Laptop, 14.0\" FHD (1920 x 1080) Display, AMD Ryzen 5 3500U Processor, 8GB DDR4 RAM, 256GB SSD, AMD Radeon Vega 8 Graphics, Narrow Bezel, Windows 10, 81W0003QUS, Abyss Blue   \n",
       "2                (Renewed) Acer Flagship CB3-532 15.6 inches HD Premium Chromebook - Intel Dual-Core Celeron N3060 up to 2.48GH.z, 2GB RAM, 16GB SSD, Wireless AC, HDMI, USB 3.0, Webcam, Chrome OS   \n",
       "3   New ! Dell Inspiron i3583 15.6\" HD Touch-Screen Laptop - Intel i5-8265U - 8GB DDR4-256GB SSD - Windows 10 - Wireless-AC - Bluetooth, SD Card Reader, HDMI & USB 3.1 -Waves MaxxAudio Pro- Black   \n",
       "7   Lenovo Ideapad L340 Gaming Laptop, 15.6 Inch FHD (1920 X 1080) IPS Display, Intel Core i5-9300H Processor, 8GB DDR4 RAM, 512GB Nvme SSD, NVIDIA GeForce GTX 1650, Windows 10, 81LK00HDUS, Black   \n",
       "\n",
       "   Preco_Final  Avaliacao_Final Processador  Memoria_RAM  \n",
       "0        400.0              4.3          i3          8.0  \n",
       "1        450.0              3.8         NaN          8.0  \n",
       "2        198.0              4.2         NaN          2.0  \n",
       "3        597.0              4.4          i5          8.0  \n",
       "7        858.0              4.4          i5          8.0  "
      ]
     },
     "execution_count": 47,
     "metadata": {},
     "output_type": "execute_result"
    }
   ],
   "source": [
    "# Visualiza os dados\n",
    "df_dados_notebooks.head()"
   ]
  },
  {
   "cell_type": "markdown",
   "metadata": {},
   "source": [
    "Por fim, vamos extrair o tamanho da tela do notebook."
   ]
  },
  {
   "cell_type": "code",
   "execution_count": 48,
   "metadata": {},
   "outputs": [],
   "source": [
    "# Regra de extração\n",
    "regra_busca_tela = r'\\b([1][\\d]+[\\.IiNnCcHh\\d]*)[ \\d]*\\b' "
   ]
  },
  {
   "cell_type": "code",
   "execution_count": 49,
   "metadata": {},
   "outputs": [],
   "source": [
    "df_dados_notebooks['Tamanho_Tela'] = df_dados_notebooks['Nome'].str.extract(regra_busca_tela)"
   ]
  },
  {
   "cell_type": "code",
   "execution_count": 50,
   "metadata": {},
   "outputs": [
    {
     "data": {
      "text/plain": [
       "14          18\n",
       "15.6         9\n",
       "15           7\n",
       "14.1         4\n",
       "10.1Inch     3\n",
       "13           3\n",
       "11.6         3\n",
       "11.6in       1\n",
       "10           1\n",
       "13.5         1\n",
       "11.6inch     1\n",
       "17           1\n",
       "17.3         1\n",
       "1769         1\n",
       "Name: Tamanho_Tela, dtype: int64"
      ]
     },
     "execution_count": 50,
     "metadata": {},
     "output_type": "execute_result"
    }
   ],
   "source": [
    "# Buscando o total de registros por Tamanho_Tela\n",
    "df_dados_notebooks['Tamanho_Tela'].value_counts(dropna = False)"
   ]
  },
  {
   "cell_type": "code",
   "execution_count": 51,
   "metadata": {},
   "outputs": [],
   "source": [
    "# Função de limpeza\n",
    "def limpa_tela(size):\n",
    "    size = size.replace('Inch', '')\n",
    "    size = size.replace('inch', '')\n",
    "    size = size.replace('in', '')\n",
    "    size = pd.to_numeric(size)\n",
    "    return size"
   ]
  },
  {
   "cell_type": "code",
   "execution_count": 52,
   "metadata": {},
   "outputs": [],
   "source": [
    "# Aplica a função\n",
    "df_dados_notebooks['Tamanho_Tela'] = df_dados_notebooks['Tamanho_Tela'].apply(limpa_tela)"
   ]
  },
  {
   "cell_type": "code",
   "execution_count": 53,
   "metadata": {},
   "outputs": [
    {
     "data": {
      "text/plain": [
       "(54, 6)"
      ]
     },
     "execution_count": 53,
     "metadata": {},
     "output_type": "execute_result"
    }
   ],
   "source": [
    "# Shape\n",
    "df_dados_notebooks.shape"
   ]
  },
  {
   "cell_type": "code",
   "execution_count": 54,
   "metadata": {},
   "outputs": [
    {
     "data": {
      "text/html": [
       "<div>\n",
       "<style scoped>\n",
       "    .dataframe tbody tr th:only-of-type {\n",
       "        vertical-align: middle;\n",
       "    }\n",
       "\n",
       "    .dataframe tbody tr th {\n",
       "        vertical-align: top;\n",
       "    }\n",
       "\n",
       "    .dataframe thead th {\n",
       "        text-align: right;\n",
       "    }\n",
       "</style>\n",
       "<table border=\"1\" class=\"dataframe\">\n",
       "  <thead>\n",
       "    <tr style=\"text-align: right;\">\n",
       "      <th></th>\n",
       "      <th>Nome</th>\n",
       "      <th>Preco_Final</th>\n",
       "      <th>Avaliacao_Final</th>\n",
       "      <th>Processador</th>\n",
       "      <th>Memoria_RAM</th>\n",
       "      <th>Tamanho_Tela</th>\n",
       "    </tr>\n",
       "  </thead>\n",
       "  <tbody>\n",
       "    <tr>\n",
       "      <th>0</th>\n",
       "      <td>ASUS VivoBook 15 Thin and Light Laptop, 15.6” FHD Display, Intel i3-1005G1 CPU, 8GB RAM, 128GB SSD, Backlit Keyboard, Fingerprint, Windows 10 Home in S Mode, Slate Gray, F512JA-AS34</td>\n",
       "      <td>400.0</td>\n",
       "      <td>4.3</td>\n",
       "      <td>i3</td>\n",
       "      <td>8.0</td>\n",
       "      <td>15.0</td>\n",
       "    </tr>\n",
       "    <tr>\n",
       "      <th>1</th>\n",
       "      <td>Lenovo IdeaPad 3 14\" Laptop, 14.0\" FHD (1920 x 1080) Display, AMD Ryzen 5 3500U Processor, 8GB DDR4 RAM, 256GB SSD, AMD Radeon Vega 8 Graphics, Narrow Bezel, Windows 10, 81W0003QUS, Abyss Blue</td>\n",
       "      <td>450.0</td>\n",
       "      <td>3.8</td>\n",
       "      <td>NaN</td>\n",
       "      <td>8.0</td>\n",
       "      <td>14.0</td>\n",
       "    </tr>\n",
       "    <tr>\n",
       "      <th>2</th>\n",
       "      <td>(Renewed) Acer Flagship CB3-532 15.6 inches HD Premium Chromebook - Intel Dual-Core Celeron N3060 up to 2.48GH.z, 2GB RAM, 16GB SSD, Wireless AC, HDMI, USB 3.0, Webcam, Chrome OS</td>\n",
       "      <td>198.0</td>\n",
       "      <td>4.2</td>\n",
       "      <td>NaN</td>\n",
       "      <td>2.0</td>\n",
       "      <td>15.6</td>\n",
       "    </tr>\n",
       "    <tr>\n",
       "      <th>3</th>\n",
       "      <td>New ! Dell Inspiron i3583 15.6\" HD Touch-Screen Laptop - Intel i5-8265U - 8GB DDR4-256GB SSD - Windows 10 - Wireless-AC - Bluetooth, SD Card Reader, HDMI &amp; USB 3.1 -Waves MaxxAudio Pro- Black</td>\n",
       "      <td>597.0</td>\n",
       "      <td>4.4</td>\n",
       "      <td>i5</td>\n",
       "      <td>8.0</td>\n",
       "      <td>15.6</td>\n",
       "    </tr>\n",
       "    <tr>\n",
       "      <th>7</th>\n",
       "      <td>Lenovo Ideapad L340 Gaming Laptop, 15.6 Inch FHD (1920 X 1080) IPS Display, Intel Core i5-9300H Processor, 8GB DDR4 RAM, 512GB Nvme SSD, NVIDIA GeForce GTX 1650, Windows 10, 81LK00HDUS, Black</td>\n",
       "      <td>858.0</td>\n",
       "      <td>4.4</td>\n",
       "      <td>i5</td>\n",
       "      <td>8.0</td>\n",
       "      <td>15.6</td>\n",
       "    </tr>\n",
       "  </tbody>\n",
       "</table>\n",
       "</div>"
      ],
      "text/plain": [
       "                                                                                                                                                                                               Nome  \\\n",
       "0             ASUS VivoBook 15 Thin and Light Laptop, 15.6” FHD Display, Intel i3-1005G1 CPU, 8GB RAM, 128GB SSD, Backlit Keyboard, Fingerprint, Windows 10 Home in S Mode, Slate Gray, F512JA-AS34   \n",
       "1  Lenovo IdeaPad 3 14\" Laptop, 14.0\" FHD (1920 x 1080) Display, AMD Ryzen 5 3500U Processor, 8GB DDR4 RAM, 256GB SSD, AMD Radeon Vega 8 Graphics, Narrow Bezel, Windows 10, 81W0003QUS, Abyss Blue   \n",
       "2                (Renewed) Acer Flagship CB3-532 15.6 inches HD Premium Chromebook - Intel Dual-Core Celeron N3060 up to 2.48GH.z, 2GB RAM, 16GB SSD, Wireless AC, HDMI, USB 3.0, Webcam, Chrome OS   \n",
       "3   New ! Dell Inspiron i3583 15.6\" HD Touch-Screen Laptop - Intel i5-8265U - 8GB DDR4-256GB SSD - Windows 10 - Wireless-AC - Bluetooth, SD Card Reader, HDMI & USB 3.1 -Waves MaxxAudio Pro- Black   \n",
       "7   Lenovo Ideapad L340 Gaming Laptop, 15.6 Inch FHD (1920 X 1080) IPS Display, Intel Core i5-9300H Processor, 8GB DDR4 RAM, 512GB Nvme SSD, NVIDIA GeForce GTX 1650, Windows 10, 81LK00HDUS, Black   \n",
       "\n",
       "   Preco_Final  Avaliacao_Final Processador  Memoria_RAM  Tamanho_Tela  \n",
       "0        400.0              4.3          i3          8.0          15.0  \n",
       "1        450.0              3.8         NaN          8.0          14.0  \n",
       "2        198.0              4.2         NaN          2.0          15.6  \n",
       "3        597.0              4.4          i5          8.0          15.6  \n",
       "7        858.0              4.4          i5          8.0          15.6  "
      ]
     },
     "execution_count": 54,
     "metadata": {},
     "output_type": "execute_result"
    }
   ],
   "source": [
    "# Visualiza os dados\n",
    "df_dados_notebooks.head()"
   ]
  },
  {
   "cell_type": "markdown",
   "metadata": {},
   "source": [
    "## Conclusão\n",
    "\n",
    "Estamos prontos para realizar nossa análise e concluir o Lab."
   ]
  },
  {
   "cell_type": "code",
   "execution_count": 55,
   "metadata": {},
   "outputs": [],
   "source": [
    "# Nomes das colunas finais do Dataset\n",
    "nomes_colunas = ['Nome', 'Preco_Final', 'Avaliacao_Final', 'Processador', 'Memoria_RAM', 'Tamanho_Tela']"
   ]
  },
  {
   "cell_type": "markdown",
   "metadata": {},
   "source": [
    "Vamos filtrar os resultados e retornar máquinas com processador i5 ou i7, 16 GB de RAM ou mais, tamanho da tela de 14 ou 15 poleadas e avaliação igual a 4. Fique à vontade para mudar as regras se desejar."
   ]
  },
  {
   "cell_type": "code",
   "execution_count": 56,
   "metadata": {},
   "outputs": [],
   "source": [
    "# Dicionário para os filtros\n",
    "filtros = {'processador':{'min':'i5', 'max':'i7'}, \n",
    "           'ram':16, \n",
    "           'preco':1500, \n",
    "           'tela':{'min':14, 'max':15}, \n",
    "           'aval':4}"
   ]
  },
  {
   "cell_type": "code",
   "execution_count": 57,
   "metadata": {},
   "outputs": [],
   "source": [
    "# Aplicamos os filtros para a coluna do processador\n",
    "df_dados_notebooks = df_dados_notebooks[nomes_colunas][(df_dados_notebooks['Processador'] == filtros['processador']['min']) | (df_dados_notebooks['Processador'] == filtros['processador']['max'])].copy()\n"
   ]
  },
  {
   "cell_type": "code",
   "execution_count": 58,
   "metadata": {},
   "outputs": [],
   "source": [
    "# Aplicamos os filtros para a coluna de memória RAM e preço\n",
    "df_dados_notebooks = df_dados_notebooks[(df_dados_notebooks['Memoria_RAM'] >= filtros['ram']) & (df_dados_notebooks['Preco_Final'] <= filtros['preco'])]"
   ]
  },
  {
   "cell_type": "code",
   "execution_count": 59,
   "metadata": {},
   "outputs": [],
   "source": [
    "# Aplicamos os filtros para a coluna de tamanho de tela\n",
    "df_dados_notebooks = df_dados_notebooks[(df_dados_notebooks['Tamanho_Tela'] >= filtros['tela']['min']) & (df_dados_notebooks['Tamanho_Tela'] <= filtros['tela']['max'])]\n"
   ]
  },
  {
   "cell_type": "code",
   "execution_count": 60,
   "metadata": {},
   "outputs": [],
   "source": [
    "# Por fim, filtramos as avaliações\n",
    "df_dados_notebooks = df_dados_notebooks[df_dados_notebooks['Avaliacao_Final'] >= filtros['aval']]"
   ]
  },
  {
   "cell_type": "markdown",
   "metadata": {},
   "source": [
    "Podemos então visualizar o resultado do nosso trabalho."
   ]
  },
  {
   "cell_type": "code",
   "execution_count": 61,
   "metadata": {},
   "outputs": [
    {
     "data": {
      "text/plain": [
       "(1, 6)"
      ]
     },
     "execution_count": 61,
     "metadata": {},
     "output_type": "execute_result"
    }
   ],
   "source": [
    "# Shape\n",
    "df_dados_notebooks.shape"
   ]
  },
  {
   "cell_type": "code",
   "execution_count": 62,
   "metadata": {},
   "outputs": [
    {
     "data": {
      "text/html": [
       "<div>\n",
       "<style scoped>\n",
       "    .dataframe tbody tr th:only-of-type {\n",
       "        vertical-align: middle;\n",
       "    }\n",
       "\n",
       "    .dataframe tbody tr th {\n",
       "        vertical-align: top;\n",
       "    }\n",
       "\n",
       "    .dataframe thead th {\n",
       "        text-align: right;\n",
       "    }\n",
       "</style>\n",
       "<table border=\"1\" class=\"dataframe\">\n",
       "  <thead>\n",
       "    <tr style=\"text-align: right;\">\n",
       "      <th></th>\n",
       "      <th>Nome</th>\n",
       "      <th>Preco_Final</th>\n",
       "      <th>Avaliacao_Final</th>\n",
       "      <th>Processador</th>\n",
       "      <th>Memoria_RAM</th>\n",
       "      <th>Tamanho_Tela</th>\n",
       "    </tr>\n",
       "  </thead>\n",
       "  <tbody>\n",
       "    <tr>\n",
       "      <th>9</th>\n",
       "      <td>Razer Blade 15 Gaming Laptop: Intel Core i7-9750H 6 Core, NVIDIA GeForce GTX 1660 Ti, 15.6\" FHD 144Hz, 16GB RAM, 256GB SSD, CNC Aluminum, Chroma RGB Lighting, Thunderbolt 3, 9th Gen i7-9750H</td>\n",
       "      <td>1346.0</td>\n",
       "      <td>4.1</td>\n",
       "      <td>i7</td>\n",
       "      <td>16.0</td>\n",
       "      <td>15.0</td>\n",
       "    </tr>\n",
       "  </tbody>\n",
       "</table>\n",
       "</div>"
      ],
      "text/plain": [
       "                                                                                                                                                                                             Nome  \\\n",
       "9  Razer Blade 15 Gaming Laptop: Intel Core i7-9750H 6 Core, NVIDIA GeForce GTX 1660 Ti, 15.6\" FHD 144Hz, 16GB RAM, 256GB SSD, CNC Aluminum, Chroma RGB Lighting, Thunderbolt 3, 9th Gen i7-9750H   \n",
       "\n",
       "   Preco_Final  Avaliacao_Final Processador  Memoria_RAM  Tamanho_Tela  \n",
       "9       1346.0              4.1          i7         16.0          15.0  "
      ]
     },
     "execution_count": 62,
     "metadata": {},
     "output_type": "execute_result"
    }
   ],
   "source": [
    "# Resultado final\n",
    "df_dados_notebooks"
   ]
  },
  {
   "cell_type": "markdown",
   "metadata": {},
   "source": [
    "E aí está o resultado final de acordo com os filtros que escolhemos. Como os produtos mudam constantemente no site da Amazon, cada execução pode ser diferente.\n",
    "\n",
    "Você poderia ainda extrair detalhes do disco, GPU, geração do processador, etc... "
   ]
  },
  {
   "cell_type": "markdown",
   "metadata": {},
   "source": [
    "Trabalho concluído. Tente agora extrair os dados do portal brasileiro da Amazon ou mesmo de outros sites de venda de notebooks."
   ]
  },
  {
   "cell_type": "markdown",
   "metadata": {},
   "source": [
    "# Fim"
   ]
  }
 ],
 "metadata": {
  "kernelspec": {
   "display_name": "Python 3",
   "language": "python",
   "name": "python3"
  },
  "language_info": {
   "codemirror_mode": {
    "name": "ipython",
    "version": 3
   },
   "file_extension": ".py",
   "mimetype": "text/x-python",
   "name": "python",
   "nbconvert_exporter": "python",
   "pygments_lexer": "ipython3",
   "version": "3.7.4"
  }
 },
 "nbformat": 4,
 "nbformat_minor": 2
}
